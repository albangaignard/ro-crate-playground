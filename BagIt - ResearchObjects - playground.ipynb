{
 "cells": [
  {
   "cell_type": "markdown",
   "metadata": {},
   "source": [
    "# Creating a BagIt structure \n",
    "\n",
    "[BagIt](https://en.wikipedia.org/wiki/BagIt), are containers for raw files and basic metadata. A manifest list the content of the *bag* and display the file cryptohraphic hashs (checksums) to assert that the content of the bag has not been altered. \n",
    "\n",
    "1. we create an empty Bag\n",
    "1. we associate basic metadata (authors)\n",
    "1. we print the content of the Bag\n",
    "1. we insert a raw file in the bag\n",
    "1. we save the bag and compute raw file checksums"
   ]
  },
  {
   "cell_type": "code",
   "execution_count": 1,
   "metadata": {},
   "outputs": [],
   "source": [
    "import bagit\n",
    "import os\n",
    "import shutil"
   ]
  },
  {
   "cell_type": "code",
   "execution_count": 2,
   "metadata": {},
   "outputs": [],
   "source": [
    "try:\n",
    "    shutil.rmtree('bag')\n",
    "except FileNotFoundError as error:\n",
    "    pass \n",
    "\n",
    "os.mkdir('bag')\n",
    "bag = bagit.make_bag('bag', {'Contact-Name': 'Alban Gaignard'}, checksums=['sha512'])\n",
    "bag.info['Authors'] = ['Alban Gaignard', 'Any other contributor']\n",
    "bag.save()"
   ]
  },
  {
   "cell_type": "code",
   "execution_count": 3,
   "metadata": {},
   "outputs": [
    {
     "name": "stdout",
     "output_type": "stream",
     "text": [
      "{'Bag-Software-Agent': 'bagit.py v1.7.0 <https://github.com/LibraryOfCongress/bagit-python>', 'Bagging-Date': '2020-04-07', 'Contact-Name': 'Alban Gaignard', 'Payload-Oxum': '0.0', 'Authors': ['Alban Gaignard', 'Any other contributor']}\n",
      "{'bagit.txt': {'sha512': '418dcfbe17d5f4b454b18630be795462cf7da4ceb6313afa49451aa2568e41f7ca3d34cf0280c7d056dc5681a70c37586aa1755620520b9198eede905ba2d0f6'}, 'bag-info.txt': {'sha512': 'a7ed594066bb351caffabba446d0ee2c6b3c756ad8116ad383598ef037a794379e7c66188b0cfb9a90927b3f4d83ec3f5472e84e1378bed64bd717fa06f63f25'}}\n"
     ]
    }
   ],
   "source": [
    "print(bag.info)\n",
    "print(bag.entries)"
   ]
  },
  {
   "cell_type": "code",
   "execution_count": 4,
   "metadata": {},
   "outputs": [
    {
     "name": "stdout",
     "output_type": "stream",
     "text": [
      "{'data/expe-outputs/out.txt': {'sha512': 'affaad194a0ba63bb5194cdbfd76b665866d23ffcf659c2b32ec990fd641f38b088b24fedfa2def93b0d4824fe7b0f197bc5acb6bf814cb7855c8c589b1bb427'}, 'bagit.txt': {'sha512': '418dcfbe17d5f4b454b18630be795462cf7da4ceb6313afa49451aa2568e41f7ca3d34cf0280c7d056dc5681a70c37586aa1755620520b9198eede905ba2d0f6'}, 'bag-info.txt': {'sha512': 'dd40fee86ed54bb0a94259a05f5bd33016bf01708160e92fc05ce59f8ae07b1abc76539f4e81540aa67521e7e29d486c10ac50b4bed197ccb90fb7136680e7dc'}, 'manifest-sha512.txt': {'sha512': '36acdf8fcc45f61e4f3e0b706b8c6b56c6fcbdaf1c4bbe85225761da16c14a9396bf9bc202619dfe2484c3aec16ced0f12445bcf29bdf5c179e2a208297c27b7'}}\n"
     ]
    }
   ],
   "source": [
    "shutil.copytree('./expe-outputs', './bag/data/expe-outputs')\n",
    "bag.save(manifests=True)\n",
    "print(bag.entries)"
   ]
  },
  {
   "cell_type": "markdown",
   "metadata": {},
   "source": [
    "## Here we play with BagIt validation \n",
    "1. we check that the bag is valid\n",
    "1. we modify the content of the raw file\n",
    "1. we check that the bag is corrupted\n",
    "1. we wave again the bag and assert that is now valid"
   ]
  },
  {
   "cell_type": "code",
   "execution_count": 5,
   "metadata": {},
   "outputs": [
    {
     "name": "stdout",
     "output_type": "stream",
     "text": [
      "Valid Bag\n"
     ]
    }
   ],
   "source": [
    "if bag.is_valid():\n",
    "    print('Valid Bag')\n",
    "else:\n",
    "    print('Corrupted Bag')"
   ]
  },
  {
   "cell_type": "code",
   "execution_count": 13,
   "metadata": {},
   "outputs": [],
   "source": [
    "with open('./bag/data/expe-outputs/out.txt', 'a') as myfile:\n",
    "    myfile.write(\"\\na modification\")"
   ]
  },
  {
   "cell_type": "code",
   "execution_count": 14,
   "metadata": {},
   "outputs": [
    {
     "name": "stdout",
     "output_type": "stream",
     "text": [
      "!! Corrupted Bag !!\n"
     ]
    }
   ],
   "source": [
    "if bag.is_valid():\n",
    "    print('Valid Bag')\n",
    "else:\n",
    "    print('!! Corrupted Bag !!')"
   ]
  },
  {
   "cell_type": "code",
   "execution_count": 15,
   "metadata": {},
   "outputs": [
    {
     "name": "stdout",
     "output_type": "stream",
     "text": [
      "Valid Bag\n"
     ]
    }
   ],
   "source": [
    "bag.save(manifests=True)\n",
    "if bag.is_valid():\n",
    "    print('Valid Bag')\n",
    "else:\n",
    "    print('!! Corrupted Bag !!')"
   ]
  },
  {
   "cell_type": "markdown",
   "metadata": {},
   "source": [
    "# Creating a RO-crate entry and serializing it in JSON-LD\n",
    "https://researchobject.github.io/ro-crate/"
   ]
  },
  {
   "cell_type": "code",
   "execution_count": 16,
   "metadata": {},
   "outputs": [],
   "source": [
    "from rdflib import *\n",
    "from datetime import datetime\n",
    "\n",
    "schema = Namespace(\"http://schema.org/\")"
   ]
  },
  {
   "cell_type": "code",
   "execution_count": 17,
   "metadata": {},
   "outputs": [
    {
     "name": "stdout",
     "output_type": "stream",
     "text": [
      "@prefix bibo: <http://purl.org/ontology/bibo/> .\n",
      "@prefix cc: <http://creativecommons.org/ns#> .\n",
      "@prefix dct: <http://purl.org/dc/terms/> .\n",
      "@prefix foaf: <http://xmlns.com/foaf/0.1/> .\n",
      "@prefix frapo: <http://purl.org/cerif/frapo/> .\n",
      "@prefix pav: <http://purl.org/pav/> .\n",
      "@prefix pcdm: <http://pcdm.org/models#> .\n",
      "@prefix prov: <http://www.w3.org/ns/prov#> .\n",
      "@prefix rdf: <http://www.w3.org/1999/02/22-rdf-syntax-ns#> .\n",
      "@prefix rdfa: <http://www.w3.org/ns/rdfa#> .\n",
      "@prefix rdfs: <http://www.w3.org/2000/01/rdf-schema#> .\n",
      "@prefix rel: <https://www.w3.org/ns/iana/link-relations/relation#> .\n",
      "@prefix roterms: <http://purl.org/ro/roterms#> .\n",
      "@prefix schema: <http://schema.org/> .\n",
      "@prefix wf4ever: <http://purl.org/ro/wf4ever#> .\n",
      "@prefix wfdesc: <http://purl.org/ro/wfdesc#> .\n",
      "@prefix wfprov: <http://purl.org/ro/wfprov#> .\n",
      "@prefix xml: <http://www.w3.org/XML/1998/namespace> .\n",
      "@prefix xsd: <http://www.w3.org/2001/XMLSchema#> .\n",
      "\n",
      "<ro-crate-metadata.jsonld> a schema:CreativeWork ;\n",
      "    schema:about <./> ;\n",
      "    schema:identifier \"ro-crate-metadata.jsonld\" .\n",
      "\n",
      "<./> a schema:Dataset ;\n",
      "    schema:author <https://orcid.org/0000-0002-3597-8557> ;\n",
      "    schema:contactPoint <alban.gaignard@univ-nantes.fr> ;\n",
      "    schema:datePublished \"2020-04-07T11:35:18.217997\" ;\n",
      "    schema:description \"this is the description of the workfow description, this is the description of the workfow description, this is the description of the workfow description\" ;\n",
      "    schema:hasPart <./data/provenance.ttl> ;\n",
      "    schema:license \"MIT?\" ;\n",
      "    schema:name \"workfow outputs\" .\n",
      "\n",
      "<./data/provenance.ttl> a schema:MediaObject .\n",
      "\n",
      "<alban.gaignard@univ-nantes.fr> a schema:ContactPoint ;\n",
      "    schema:contactType \"Developer\" ;\n",
      "    schema:email \"alban.gaignard@univ-nantes.fr\"^^xsd:string ;\n",
      "    schema:name \"Alban Gaignard\" ;\n",
      "    schema:url \"https://orcid.org/0000-0002-3597-8557\" .\n",
      "\n",
      "<https://orcid.org/0000-0002-3597-8557> a schema:Person .\n",
      "\n",
      "\n"
     ]
    }
   ],
   "source": [
    "graph = ConjunctiveGraph()\n",
    "#graph.bind('foaf', 'http://xmlns.com/foaf/0.1/')\n",
    "graph.load('https://researchobject.github.io/ro-crate/0.2/context.json', format='json-ld')\n",
    "\n",
    "# person information\n",
    "graph.add( (URIRef('https://orcid.org/0000-0002-3597-8557'), RDF.type, schema.Person) )\n",
    "\n",
    "# contact information\n",
    "graph.add( (URIRef('alban.gaignard@univ-nantes.fr'), RDF.type, schema.ContactPoint) )\n",
    "graph.add( (URIRef('alban.gaignard@univ-nantes.fr'), schema.contactType, Literal('Developer')) )\n",
    "graph.add( (URIRef('alban.gaignard@univ-nantes.fr'), schema.name, Literal('Alban Gaignard')) )\n",
    "graph.add( (URIRef('alban.gaignard@univ-nantes.fr'), schema.email, Literal('alban.gaignard@univ-nantes.fr', datatype=XSD.string)) )\n",
    "graph.add( (URIRef('alban.gaignard@univ-nantes.fr'), schema.url, Literal('https://orcid.org/0000-0002-3597-8557')) )\n",
    "\n",
    "# root metadata\n",
    "graph.add( (URIRef('ro-crate-metadata.jsonld'), RDF.type, schema.CreativeWork) )\n",
    "graph.add( (URIRef('ro-crate-metadata.jsonld'), schema.identifier, Literal('ro-crate-metadata.jsonld')) )\n",
    "graph.add( (URIRef('ro-crate-metadata.jsonld'), schema.about, URIRef('./')) )\n",
    "\n",
    "# Dataset metadata with reference to files\n",
    "graph.add( (URIRef('./'), RDF.type, schema.Dataset) )\n",
    "graph.add( (URIRef('./'), schema.name, Literal(\"workfow outputs\")) )\n",
    "graph.add( (URIRef('./'), schema.datePublished, Literal(datetime.now().isoformat())) )\n",
    "graph.add( (URIRef('./'), schema.author, URIRef('https://orcid.org/0000-0002-3597-8557')) )\n",
    "graph.add( (URIRef('./'), schema.contactPoint, URIRef('alban.gaignard@univ-nantes.fr')) )\n",
    "graph.add( (URIRef('./'), schema.description, Literal(\"this is the description of the workfow description, this is the description of the workfow description, this is the description of the workfow description\")) )\n",
    "graph.add( (URIRef('./'), schema.license, Literal(\"MIT?\")) )\n",
    "graph.add( (URIRef('./'), schema.hasPart, (URIRef('./data/provenance.ttl'))) ) \n",
    "\n",
    "# Files metadata \n",
    "graph.add( (URIRef('./data/provenance.ttl'), RDF.type, schema.MediaObject) ) \n",
    "\n",
    "print(graph.serialize(format='turtle').decode())\n",
    "#print(graph.serialize(format='json-ld').decode())"
   ]
  },
  {
   "cell_type": "code",
   "execution_count": 1,
   "metadata": {},
   "outputs": [
    {
     "ename": "NameError",
     "evalue": "name 'graph' is not defined",
     "output_type": "error",
     "traceback": [
      "\u001b[0;31m---------------------------------------------------------------------------\u001b[0m",
      "\u001b[0;31mNameError\u001b[0m                                 Traceback (most recent call last)",
      "\u001b[0;32m<ipython-input-1-804b0836f8ca>\u001b[0m in \u001b[0;36m<module>\u001b[0;34m\u001b[0m\n\u001b[1;32m      5\u001b[0m \u001b[0mctx\u001b[0m \u001b[0;34m=\u001b[0m \u001b[0mjson\u001b[0m\u001b[0;34m.\u001b[0m\u001b[0mloads\u001b[0m\u001b[0;34m(\u001b[0m\u001b[0mres\u001b[0m\u001b[0;34m.\u001b[0m\u001b[0mtext\u001b[0m\u001b[0;34m)\u001b[0m\u001b[0;34m[\u001b[0m\u001b[0;34m'@context'\u001b[0m\u001b[0;34m]\u001b[0m\u001b[0;34m\u001b[0m\u001b[0;34m\u001b[0m\u001b[0m\n\u001b[1;32m      6\u001b[0m \u001b[0;34m\u001b[0m\u001b[0m\n\u001b[0;32m----> 7\u001b[0;31m \u001b[0mjsonld\u001b[0m \u001b[0;34m=\u001b[0m \u001b[0mgraph\u001b[0m\u001b[0;34m.\u001b[0m\u001b[0mserialize\u001b[0m\u001b[0;34m(\u001b[0m\u001b[0mformat\u001b[0m\u001b[0;34m=\u001b[0m\u001b[0;34m'json-ld'\u001b[0m\u001b[0;34m,\u001b[0m \u001b[0mcontext\u001b[0m\u001b[0;34m=\u001b[0m\u001b[0mctx\u001b[0m\u001b[0;34m)\u001b[0m\u001b[0;34m\u001b[0m\u001b[0;34m\u001b[0m\u001b[0m\n\u001b[0m\u001b[1;32m      8\u001b[0m \u001b[0mprint\u001b[0m\u001b[0;34m(\u001b[0m\u001b[0mjsonld\u001b[0m\u001b[0;34m.\u001b[0m\u001b[0mdecode\u001b[0m\u001b[0;34m(\u001b[0m\u001b[0;34m)\u001b[0m\u001b[0;34m)\u001b[0m\u001b[0;34m\u001b[0m\u001b[0;34m\u001b[0m\u001b[0m\n\u001b[1;32m      9\u001b[0m \u001b[0mgraph\u001b[0m\u001b[0;34m.\u001b[0m\u001b[0mserialize\u001b[0m\u001b[0;34m(\u001b[0m\u001b[0mdestination\u001b[0m\u001b[0;34m=\u001b[0m\u001b[0;34m'ro-crate-metadata.jsonld'\u001b[0m\u001b[0;34m,\u001b[0m \u001b[0mformat\u001b[0m\u001b[0;34m=\u001b[0m\u001b[0;34m'json-ld'\u001b[0m\u001b[0;34m,\u001b[0m \u001b[0mcontext\u001b[0m\u001b[0;34m=\u001b[0m\u001b[0mctx\u001b[0m\u001b[0;34m)\u001b[0m\u001b[0;34m\u001b[0m\u001b[0;34m\u001b[0m\u001b[0m\n",
      "\u001b[0;31mNameError\u001b[0m: name 'graph' is not defined"
     ]
    }
   ],
   "source": [
    "import json\n",
    "import requests\n",
    "\n",
    "res = requests.get('https://w3id.org/ro/crate/1.0/context')\n",
    "ctx = json.loads(res.text)['@context']\n",
    "\n",
    "jsonld = graph.serialize(format='json-ld', context=ctx)\n",
    "print(jsonld.decode())\n",
    "graph.serialize(destination='ro-crate-metadata.jsonld', format='json-ld', context=ctx)\n"
   ]
  },
  {
   "cell_type": "code",
   "execution_count": null,
   "metadata": {},
   "outputs": [],
   "source": []
  }
 ],
 "metadata": {
  "kernelspec": {
   "display_name": "Python 3",
   "language": "python",
   "name": "python3"
  },
  "language_info": {
   "codemirror_mode": {
    "name": "ipython",
    "version": 3
   },
   "file_extension": ".py",
   "mimetype": "text/x-python",
   "name": "python",
   "nbconvert_exporter": "python",
   "pygments_lexer": "ipython3",
   "version": "3.7.3"
  }
 },
 "nbformat": 4,
 "nbformat_minor": 2
}
